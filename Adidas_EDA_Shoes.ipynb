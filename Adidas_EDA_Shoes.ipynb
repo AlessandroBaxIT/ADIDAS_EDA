{
 "cells": [
  {
   "cell_type": "markdown",
   "id": "3f72fde4-7276-49bc-8a23-de966ff95348",
   "metadata": {},
   "source": [
    "# Exploratory Data Analysis on Adidas Webstore Shoe Data\n"
   ]
  },
  {
   "cell_type": "markdown",
   "id": "e058d6a6-37fa-488d-9881-246eaa08f1e8",
   "metadata": {},
   "source": [
    "In this project, an Exploratory Data Analysis (EDA) has been performed on three datasets related to Adidas shoes, provided on Kaggle, [Adidas Webstore Shoe Data on Kaggle](https://www.kaggle.com/datasets/tamsnd/adidas-webstore-shoe-data/data). The primary goal was to combine the datasets and investigate the pricing differences across various countries, focusing on the average price variation by shoe category and country.\n",
    "\n",
    "The analysis aims to uncover insights into the pricing trends for Adidas shoes, with a specific emphasis on how prices differ based on shoe categories and the countries represented in the datasets. \n",
    "By merging the data, I walked through some steps to get to the desired dataset.\n"
   ]
  },
  {
   "cell_type": "code",
   "execution_count": 1,
   "id": "9655986c-6160-4b95-a6cc-fc2f7a322b0d",
   "metadata": {},
   "outputs": [
    {
     "data": {
      "text/html": [
       "<div>\n",
       "<style scoped>\n",
       "    .dataframe tbody tr th:only-of-type {\n",
       "        vertical-align: middle;\n",
       "    }\n",
       "\n",
       "    .dataframe tbody tr th {\n",
       "        vertical-align: top;\n",
       "    }\n",
       "\n",
       "    .dataframe thead th {\n",
       "        text-align: right;\n",
       "    }\n",
       "</style>\n",
       "<table border=\"1\" class=\"dataframe\">\n",
       "  <thead>\n",
       "    <tr style=\"text-align: right;\">\n",
       "      <th></th>\n",
       "      <th>country_code</th>\n",
       "      <th>currency</th>\n",
       "    </tr>\n",
       "  </thead>\n",
       "  <tbody>\n",
       "    <tr>\n",
       "      <th>0</th>\n",
       "      <td>DE</td>\n",
       "      <td>euro</td>\n",
       "    </tr>\n",
       "    <tr>\n",
       "      <th>1</th>\n",
       "      <td>US</td>\n",
       "      <td>usd</td>\n",
       "    </tr>\n",
       "    <tr>\n",
       "      <th>2</th>\n",
       "      <td>BE</td>\n",
       "      <td>euro</td>\n",
       "    </tr>\n",
       "    <tr>\n",
       "      <th>3</th>\n",
       "      <td>UK</td>\n",
       "      <td>pounds</td>\n",
       "    </tr>\n",
       "  </tbody>\n",
       "</table>\n",
       "</div>"
      ],
      "text/plain": [
       "  country_code currency\n",
       "0           DE     euro\n",
       "1           US      usd\n",
       "2           BE     euro\n",
       "3           UK   pounds"
      ]
     },
     "execution_count": 1,
     "metadata": {},
     "output_type": "execute_result"
    }
   ],
   "source": [
    "import pandas as pd\n",
    "countries_metrics = pd.read_csv('country_dim.csv')\n",
    "countries_metrics.drop(columns=['shoe_metric'], inplace=True)\n",
    "countries_metrics"
   ]
  },
  {
   "cell_type": "markdown",
   "id": "444c06bb-c441-4607-b7fd-53ab7785db24",
   "metadata": {},
   "source": [
    "Unnecessary columns are dropped from both datasets 'country_dim.csv' and 'shoes_fact.csv', specifically 'shoe_metric', \"Unnamed: 0\", \"availability\", \"date\", and \"size\". Additionally, cleaning the data for any duplicates and handling of missing values (NaN). Next, we perform a merge on the 'country code' column, and the 'id' column will be used for a subsequent merge with the 'shoes_dim.csv' dataset."
   ]
  },
  {
   "cell_type": "code",
   "execution_count": 3,
   "id": "a690576a-a2e7-460a-ae53-0192b7f676b1",
   "metadata": {},
   "outputs": [
    {
     "data": {
      "text/html": [
       "<div>\n",
       "<style scoped>\n",
       "    .dataframe tbody tr th:only-of-type {\n",
       "        vertical-align: middle;\n",
       "    }\n",
       "\n",
       "    .dataframe tbody tr th {\n",
       "        vertical-align: top;\n",
       "    }\n",
       "\n",
       "    .dataframe thead th {\n",
       "        text-align: right;\n",
       "    }\n",
       "</style>\n",
       "<table border=\"1\" class=\"dataframe\">\n",
       "  <thead>\n",
       "    <tr style=\"text-align: right;\">\n",
       "      <th></th>\n",
       "      <th>id</th>\n",
       "      <th>price</th>\n",
       "      <th>category</th>\n",
       "      <th>country_code</th>\n",
       "    </tr>\n",
       "  </thead>\n",
       "  <tbody>\n",
       "    <tr>\n",
       "      <th>0</th>\n",
       "      <td>HP9426</td>\n",
       "      <td>60.0</td>\n",
       "      <td>sneakers</td>\n",
       "      <td>DE</td>\n",
       "    </tr>\n",
       "    <tr>\n",
       "      <th>1</th>\n",
       "      <td>HP9426</td>\n",
       "      <td>60.0</td>\n",
       "      <td>sneakers</td>\n",
       "      <td>DE</td>\n",
       "    </tr>\n",
       "    <tr>\n",
       "      <th>2</th>\n",
       "      <td>HP9426</td>\n",
       "      <td>60.0</td>\n",
       "      <td>sneakers</td>\n",
       "      <td>DE</td>\n",
       "    </tr>\n",
       "    <tr>\n",
       "      <th>3</th>\n",
       "      <td>HP9426</td>\n",
       "      <td>60.0</td>\n",
       "      <td>sneakers</td>\n",
       "      <td>DE</td>\n",
       "    </tr>\n",
       "    <tr>\n",
       "      <th>4</th>\n",
       "      <td>HP9426</td>\n",
       "      <td>60.0</td>\n",
       "      <td>sneakers</td>\n",
       "      <td>DE</td>\n",
       "    </tr>\n",
       "  </tbody>\n",
       "</table>\n",
       "</div>"
      ],
      "text/plain": [
       "       id  price  category country_code\n",
       "0  HP9426   60.0  sneakers           DE\n",
       "1  HP9426   60.0  sneakers           DE\n",
       "2  HP9426   60.0  sneakers           DE\n",
       "3  HP9426   60.0  sneakers           DE\n",
       "4  HP9426   60.0  sneakers           DE"
      ]
     },
     "execution_count": 3,
     "metadata": {},
     "output_type": "execute_result"
    }
   ],
   "source": [
    "scarpe = pd.read_csv('shoes_fact.csv')\n",
    "scarpe.drop(columns=[\"Unnamed: 0\", \"availability\", \"date\", \"size\"], inplace=True)\n",
    "scarpe.head()"
   ]
  },
  {
   "cell_type": "markdown",
   "id": "272fa8db-96a0-48e3-a059-d7cab9d3904f",
   "metadata": {},
   "source": [
    "Noticing the large amount of duplicates of the same shoe across different countries and within each state (due to the removal of shoe sizes that are not relevant to the analysis), I have decided to remove the duplicates within each state in order to set up an analysis of the same shoes across different states."
   ]
  },
  {
   "cell_type": "code",
   "execution_count": 6,
   "id": "c3b8e36b-b3a0-4717-8f91-f03d6a69ec52",
   "metadata": {},
   "outputs": [
    {
     "data": {
      "text/html": [
       "<div>\n",
       "<style scoped>\n",
       "    .dataframe tbody tr th:only-of-type {\n",
       "        vertical-align: middle;\n",
       "    }\n",
       "\n",
       "    .dataframe tbody tr th {\n",
       "        vertical-align: top;\n",
       "    }\n",
       "\n",
       "    .dataframe thead th {\n",
       "        text-align: right;\n",
       "    }\n",
       "</style>\n",
       "<table border=\"1\" class=\"dataframe\">\n",
       "  <thead>\n",
       "    <tr style=\"text-align: right;\">\n",
       "      <th></th>\n",
       "      <th>id</th>\n",
       "      <th>price</th>\n",
       "      <th>category</th>\n",
       "      <th>country_code</th>\n",
       "    </tr>\n",
       "  </thead>\n",
       "  <tbody>\n",
       "    <tr>\n",
       "      <th>0</th>\n",
       "      <td>HP9426</td>\n",
       "      <td>60.0</td>\n",
       "      <td>sneakers</td>\n",
       "      <td>DE</td>\n",
       "    </tr>\n",
       "    <tr>\n",
       "      <th>20</th>\n",
       "      <td>HQ4199</td>\n",
       "      <td>180.0</td>\n",
       "      <td>sneakers</td>\n",
       "      <td>DE</td>\n",
       "    </tr>\n",
       "    <tr>\n",
       "      <th>36</th>\n",
       "      <td>JQ2552</td>\n",
       "      <td>160.0</td>\n",
       "      <td>sneakers</td>\n",
       "      <td>DE</td>\n",
       "    </tr>\n",
       "    <tr>\n",
       "      <th>58</th>\n",
       "      <td>JI1896</td>\n",
       "      <td>80.0</td>\n",
       "      <td>sneakers</td>\n",
       "      <td>DE</td>\n",
       "    </tr>\n",
       "    <tr>\n",
       "      <th>80</th>\n",
       "      <td>IE8976</td>\n",
       "      <td>180.0</td>\n",
       "      <td>sneakers</td>\n",
       "      <td>DE</td>\n",
       "    </tr>\n",
       "    <tr>\n",
       "      <th>...</th>\n",
       "      <td>...</td>\n",
       "      <td>...</td>\n",
       "      <td>...</td>\n",
       "      <td>...</td>\n",
       "    </tr>\n",
       "    <tr>\n",
       "      <th>289291</th>\n",
       "      <td>IF4212</td>\n",
       "      <td>144.0</td>\n",
       "      <td>athletic_sneakers</td>\n",
       "      <td>US</td>\n",
       "    </tr>\n",
       "    <tr>\n",
       "      <th>289337</th>\n",
       "      <td>IE6438</td>\n",
       "      <td>50.0</td>\n",
       "      <td>athletic_sneakers</td>\n",
       "      <td>US</td>\n",
       "    </tr>\n",
       "    <tr>\n",
       "      <th>289456</th>\n",
       "      <td>H02334</td>\n",
       "      <td>110.0</td>\n",
       "      <td>athletic_sneakers</td>\n",
       "      <td>US</td>\n",
       "    </tr>\n",
       "    <tr>\n",
       "      <th>291675</th>\n",
       "      <td>IF1360</td>\n",
       "      <td>70.0</td>\n",
       "      <td>occer-shoes</td>\n",
       "      <td>US</td>\n",
       "    </tr>\n",
       "    <tr>\n",
       "      <th>291711</th>\n",
       "      <td>IH3814</td>\n",
       "      <td>54.0</td>\n",
       "      <td>occer-shoes</td>\n",
       "      <td>US</td>\n",
       "    </tr>\n",
       "  </tbody>\n",
       "</table>\n",
       "<p>3403 rows × 4 columns</p>\n",
       "</div>"
      ],
      "text/plain": [
       "            id  price           category country_code\n",
       "0       HP9426   60.0           sneakers           DE\n",
       "20      HQ4199  180.0           sneakers           DE\n",
       "36      JQ2552  160.0           sneakers           DE\n",
       "58      JI1896   80.0           sneakers           DE\n",
       "80      IE8976  180.0           sneakers           DE\n",
       "...        ...    ...                ...          ...\n",
       "289291  IF4212  144.0  athletic_sneakers           US\n",
       "289337  IE6438   50.0  athletic_sneakers           US\n",
       "289456  H02334  110.0  athletic_sneakers           US\n",
       "291675  IF1360   70.0        occer-shoes           US\n",
       "291711  IH3814   54.0        occer-shoes           US\n",
       "\n",
       "[3403 rows x 4 columns]"
      ]
     },
     "execution_count": 6,
     "metadata": {},
     "output_type": "execute_result"
    }
   ],
   "source": [
    "scarpe.id.duplicated()\n",
    "scarpe = scarpe.drop_duplicates(subset=['id', 'country_code'], keep='first')\n",
    "scarpe.isnull().sum()\n",
    "scarpe"
   ]
  },
  {
   "cell_type": "code",
   "execution_count": 8,
   "id": "9a50c945-5895-4779-8c4c-26d76921ce16",
   "metadata": {},
   "outputs": [
    {
     "data": {
      "text/plain": [
       "False"
      ]
     },
     "execution_count": 8,
     "metadata": {},
     "output_type": "execute_result"
    }
   ],
   "source": [
    "scarpe.country_code.unique()\n",
    "scarpe.duplicated().any()"
   ]
  },
  {
   "cell_type": "markdown",
   "id": "f350c8c5-1418-416f-a6f6-e233019b0964",
   "metadata": {},
   "source": [
    "Once the 'shoes_fact.csv' dataset is cleaned, I can perform the merge between the two datasets using the country_code for each shoe item."
   ]
  },
  {
   "cell_type": "markdown",
   "id": "20fe8ee5-13b1-4d1f-9d24-fe20e9209fe5",
   "metadata": {},
   "source": [
    "## First Merge"
   ]
  },
  {
   "cell_type": "code",
   "execution_count": 12,
   "id": "d7c148b8-9644-4069-b094-d83c321ec394",
   "metadata": {},
   "outputs": [
    {
     "data": {
      "text/html": [
       "<div>\n",
       "<style scoped>\n",
       "    .dataframe tbody tr th:only-of-type {\n",
       "        vertical-align: middle;\n",
       "    }\n",
       "\n",
       "    .dataframe tbody tr th {\n",
       "        vertical-align: top;\n",
       "    }\n",
       "\n",
       "    .dataframe thead th {\n",
       "        text-align: right;\n",
       "    }\n",
       "</style>\n",
       "<table border=\"1\" class=\"dataframe\">\n",
       "  <thead>\n",
       "    <tr style=\"text-align: right;\">\n",
       "      <th></th>\n",
       "      <th>id</th>\n",
       "      <th>price</th>\n",
       "      <th>category</th>\n",
       "      <th>country_code</th>\n",
       "      <th>currency</th>\n",
       "    </tr>\n",
       "  </thead>\n",
       "  <tbody>\n",
       "    <tr>\n",
       "      <th>0</th>\n",
       "      <td>HP9426</td>\n",
       "      <td>60.0</td>\n",
       "      <td>sneakers</td>\n",
       "      <td>DE</td>\n",
       "      <td>euro</td>\n",
       "    </tr>\n",
       "    <tr>\n",
       "      <th>1</th>\n",
       "      <td>HQ4199</td>\n",
       "      <td>180.0</td>\n",
       "      <td>sneakers</td>\n",
       "      <td>DE</td>\n",
       "      <td>euro</td>\n",
       "    </tr>\n",
       "    <tr>\n",
       "      <th>2</th>\n",
       "      <td>JQ2552</td>\n",
       "      <td>160.0</td>\n",
       "      <td>sneakers</td>\n",
       "      <td>DE</td>\n",
       "      <td>euro</td>\n",
       "    </tr>\n",
       "    <tr>\n",
       "      <th>3</th>\n",
       "      <td>JI1896</td>\n",
       "      <td>80.0</td>\n",
       "      <td>sneakers</td>\n",
       "      <td>DE</td>\n",
       "      <td>euro</td>\n",
       "    </tr>\n",
       "    <tr>\n",
       "      <th>4</th>\n",
       "      <td>IE8976</td>\n",
       "      <td>180.0</td>\n",
       "      <td>sneakers</td>\n",
       "      <td>DE</td>\n",
       "      <td>euro</td>\n",
       "    </tr>\n",
       "    <tr>\n",
       "      <th>...</th>\n",
       "      <td>...</td>\n",
       "      <td>...</td>\n",
       "      <td>...</td>\n",
       "      <td>...</td>\n",
       "      <td>...</td>\n",
       "    </tr>\n",
       "    <tr>\n",
       "      <th>3398</th>\n",
       "      <td>IF4212</td>\n",
       "      <td>144.0</td>\n",
       "      <td>athletic_sneakers</td>\n",
       "      <td>US</td>\n",
       "      <td>usd</td>\n",
       "    </tr>\n",
       "    <tr>\n",
       "      <th>3399</th>\n",
       "      <td>IE6438</td>\n",
       "      <td>50.0</td>\n",
       "      <td>athletic_sneakers</td>\n",
       "      <td>US</td>\n",
       "      <td>usd</td>\n",
       "    </tr>\n",
       "    <tr>\n",
       "      <th>3400</th>\n",
       "      <td>H02334</td>\n",
       "      <td>110.0</td>\n",
       "      <td>athletic_sneakers</td>\n",
       "      <td>US</td>\n",
       "      <td>usd</td>\n",
       "    </tr>\n",
       "    <tr>\n",
       "      <th>3401</th>\n",
       "      <td>IF1360</td>\n",
       "      <td>70.0</td>\n",
       "      <td>occer-shoes</td>\n",
       "      <td>US</td>\n",
       "      <td>usd</td>\n",
       "    </tr>\n",
       "    <tr>\n",
       "      <th>3402</th>\n",
       "      <td>IH3814</td>\n",
       "      <td>54.0</td>\n",
       "      <td>occer-shoes</td>\n",
       "      <td>US</td>\n",
       "      <td>usd</td>\n",
       "    </tr>\n",
       "  </tbody>\n",
       "</table>\n",
       "<p>3403 rows × 5 columns</p>\n",
       "</div>"
      ],
      "text/plain": [
       "          id  price           category country_code currency\n",
       "0     HP9426   60.0           sneakers           DE     euro\n",
       "1     HQ4199  180.0           sneakers           DE     euro\n",
       "2     JQ2552  160.0           sneakers           DE     euro\n",
       "3     JI1896   80.0           sneakers           DE     euro\n",
       "4     IE8976  180.0           sneakers           DE     euro\n",
       "...      ...    ...                ...          ...      ...\n",
       "3398  IF4212  144.0  athletic_sneakers           US      usd\n",
       "3399  IE6438   50.0  athletic_sneakers           US      usd\n",
       "3400  H02334  110.0  athletic_sneakers           US      usd\n",
       "3401  IF1360   70.0        occer-shoes           US      usd\n",
       "3402  IH3814   54.0        occer-shoes           US      usd\n",
       "\n",
       "[3403 rows x 5 columns]"
      ]
     },
     "execution_count": 12,
     "metadata": {},
     "output_type": "execute_result"
    }
   ],
   "source": [
    "countries_metrics_shoes = pd.merge(scarpe, countries_metrics, on='country_code', how=\"left\")\n",
    "countries_metrics_shoes"
   ]
  },
  {
   "cell_type": "markdown",
   "id": "02876e0a-98e8-4bbe-8123-0d8e7ee9422f",
   "metadata": {},
   "source": [
    "In order to standardize the data for the analysis, I decide to convert all 'price' data to Euro (therefore converting other currencies such as $ and £ to EUR). However, the original countries of origin for the shoes will be retained (for example, prices in dollars for U.S. shoes will be converted to euros but will still be identified as originating from the United States)."
   ]
  },
  {
   "cell_type": "code",
   "execution_count": 15,
   "id": "3ac097ae-2160-4b9f-903b-cc2d8dea839e",
   "metadata": {},
   "outputs": [
    {
     "data": {
      "text/plain": [
       "array(['euro', 'pounds', 'usd'], dtype=object)"
      ]
     },
     "execution_count": 15,
     "metadata": {},
     "output_type": "execute_result"
    }
   ],
   "source": [
    "countries_metrics_shoes['currency'].unique()"
   ]
  },
  {
   "cell_type": "code",
   "execution_count": 17,
   "id": "c481cac6-aa41-4c7d-85ce-c7b58c208f22",
   "metadata": {},
   "outputs": [],
   "source": [
    "def convers_eur(df):\n",
    "  if df.currency == 'euro':\n",
    "    return df.price\n",
    "  elif df.currency == 'usd':\n",
    "    return df.price * 1.03\n",
    "  elif df.currency == 'pounds':\n",
    "    return df.price * 0.85\n",
    "  else:\n",
    "    raise ValueError(f\"Currency non recognized: {df.currency}\")\n",
    "\n",
    "countries_metrics_shoes['price_EUR'] = countries_metrics_shoes.apply(convers_eur, axis=1)"
   ]
  },
  {
   "cell_type": "code",
   "execution_count": 19,
   "id": "2cddb7b8-e61f-4b29-a980-b87d6c64c645",
   "metadata": {},
   "outputs": [
    {
     "data": {
      "text/html": [
       "<div>\n",
       "<style scoped>\n",
       "    .dataframe tbody tr th:only-of-type {\n",
       "        vertical-align: middle;\n",
       "    }\n",
       "\n",
       "    .dataframe tbody tr th {\n",
       "        vertical-align: top;\n",
       "    }\n",
       "\n",
       "    .dataframe thead th {\n",
       "        text-align: right;\n",
       "    }\n",
       "</style>\n",
       "<table border=\"1\" class=\"dataframe\">\n",
       "  <thead>\n",
       "    <tr style=\"text-align: right;\">\n",
       "      <th></th>\n",
       "      <th>id</th>\n",
       "      <th>category</th>\n",
       "      <th>country</th>\n",
       "      <th>price_EUR</th>\n",
       "    </tr>\n",
       "  </thead>\n",
       "  <tbody>\n",
       "    <tr>\n",
       "      <th>0</th>\n",
       "      <td>HP9426</td>\n",
       "      <td>sneakers</td>\n",
       "      <td>DE</td>\n",
       "      <td>60.00</td>\n",
       "    </tr>\n",
       "    <tr>\n",
       "      <th>1</th>\n",
       "      <td>HQ4199</td>\n",
       "      <td>sneakers</td>\n",
       "      <td>DE</td>\n",
       "      <td>180.00</td>\n",
       "    </tr>\n",
       "    <tr>\n",
       "      <th>2</th>\n",
       "      <td>JQ2552</td>\n",
       "      <td>sneakers</td>\n",
       "      <td>DE</td>\n",
       "      <td>160.00</td>\n",
       "    </tr>\n",
       "    <tr>\n",
       "      <th>3</th>\n",
       "      <td>JI1896</td>\n",
       "      <td>sneakers</td>\n",
       "      <td>DE</td>\n",
       "      <td>80.00</td>\n",
       "    </tr>\n",
       "    <tr>\n",
       "      <th>4</th>\n",
       "      <td>IE8976</td>\n",
       "      <td>sneakers</td>\n",
       "      <td>DE</td>\n",
       "      <td>180.00</td>\n",
       "    </tr>\n",
       "    <tr>\n",
       "      <th>...</th>\n",
       "      <td>...</td>\n",
       "      <td>...</td>\n",
       "      <td>...</td>\n",
       "      <td>...</td>\n",
       "    </tr>\n",
       "    <tr>\n",
       "      <th>3398</th>\n",
       "      <td>IF4212</td>\n",
       "      <td>athletic_sneakers</td>\n",
       "      <td>US</td>\n",
       "      <td>148.32</td>\n",
       "    </tr>\n",
       "    <tr>\n",
       "      <th>3399</th>\n",
       "      <td>IE6438</td>\n",
       "      <td>athletic_sneakers</td>\n",
       "      <td>US</td>\n",
       "      <td>51.50</td>\n",
       "    </tr>\n",
       "    <tr>\n",
       "      <th>3400</th>\n",
       "      <td>H02334</td>\n",
       "      <td>athletic_sneakers</td>\n",
       "      <td>US</td>\n",
       "      <td>113.30</td>\n",
       "    </tr>\n",
       "    <tr>\n",
       "      <th>3401</th>\n",
       "      <td>IF1360</td>\n",
       "      <td>occer-shoes</td>\n",
       "      <td>US</td>\n",
       "      <td>72.10</td>\n",
       "    </tr>\n",
       "    <tr>\n",
       "      <th>3402</th>\n",
       "      <td>IH3814</td>\n",
       "      <td>occer-shoes</td>\n",
       "      <td>US</td>\n",
       "      <td>55.62</td>\n",
       "    </tr>\n",
       "  </tbody>\n",
       "</table>\n",
       "<p>3403 rows × 4 columns</p>\n",
       "</div>"
      ],
      "text/plain": [
       "          id           category country  price_EUR\n",
       "0     HP9426           sneakers      DE      60.00\n",
       "1     HQ4199           sneakers      DE     180.00\n",
       "2     JQ2552           sneakers      DE     160.00\n",
       "3     JI1896           sneakers      DE      80.00\n",
       "4     IE8976           sneakers      DE     180.00\n",
       "...      ...                ...     ...        ...\n",
       "3398  IF4212  athletic_sneakers      US     148.32\n",
       "3399  IE6438  athletic_sneakers      US      51.50\n",
       "3400  H02334  athletic_sneakers      US     113.30\n",
       "3401  IF1360        occer-shoes      US      72.10\n",
       "3402  IH3814        occer-shoes      US      55.62\n",
       "\n",
       "[3403 rows x 4 columns]"
      ]
     },
     "execution_count": 19,
     "metadata": {},
     "output_type": "execute_result"
    }
   ],
   "source": [
    "countries_metrics_shoes.drop(columns=['price', 'currency'], inplace=True)\n",
    "countries_metrics_shoes.rename(columns={'country_code': 'country'}, inplace=True)\n",
    "countries_metrics_shoes.isnull().sum()\n",
    "countries_metrics_shoes"
   ]
  },
  {
   "cell_type": "markdown",
   "id": "ea623455-9c0b-4961-abf5-5c7859f859a9",
   "metadata": {},
   "source": [
    "Once the shoe prices are converted to Euro for all products, I perform the merge with the 'shoes_dim.csv' file at the shoe ID level, drop unnecessary columns ('best_for_wear', 'image_url', 'sub_color1', 'sub_color2'), and conduct data cleaning/data wrangling."
   ]
  },
  {
   "cell_type": "code",
   "execution_count": 22,
   "id": "419dd0c6-42dd-44f1-acb5-2cf28388b71e",
   "metadata": {},
   "outputs": [
    {
     "data": {
      "text/html": [
       "<div>\n",
       "<style scoped>\n",
       "    .dataframe tbody tr th:only-of-type {\n",
       "        vertical-align: middle;\n",
       "    }\n",
       "\n",
       "    .dataframe tbody tr th {\n",
       "        vertical-align: top;\n",
       "    }\n",
       "\n",
       "    .dataframe thead th {\n",
       "        text-align: right;\n",
       "    }\n",
       "</style>\n",
       "<table border=\"1\" class=\"dataframe\">\n",
       "  <thead>\n",
       "    <tr style=\"text-align: right;\">\n",
       "      <th></th>\n",
       "      <th>id</th>\n",
       "      <th>name</th>\n",
       "      <th>gender</th>\n",
       "      <th>dominant_color</th>\n",
       "    </tr>\n",
       "  </thead>\n",
       "  <tbody>\n",
       "    <tr>\n",
       "      <th>0</th>\n",
       "      <td>HP9426</td>\n",
       "      <td>Breaknet 2.0 Schuh</td>\n",
       "      <td>U</td>\n",
       "      <td>Cloud White</td>\n",
       "    </tr>\n",
       "    <tr>\n",
       "      <th>1</th>\n",
       "      <td>HQ4199</td>\n",
       "      <td>Ultraboost 1.0 Laufschuh</td>\n",
       "      <td>U</td>\n",
       "      <td>Core Black</td>\n",
       "    </tr>\n",
       "    <tr>\n",
       "      <th>2</th>\n",
       "      <td>JQ2552</td>\n",
       "      <td>Adizero Boston 12 Laufschuh</td>\n",
       "      <td>U</td>\n",
       "      <td>Cloud White</td>\n",
       "    </tr>\n",
       "    <tr>\n",
       "      <th>3</th>\n",
       "      <td>JI1896</td>\n",
       "      <td>NY 90 Schuh</td>\n",
       "      <td>U</td>\n",
       "      <td>Cloud White</td>\n",
       "    </tr>\n",
       "    <tr>\n",
       "      <th>4</th>\n",
       "      <td>IE8976</td>\n",
       "      <td>Ultraboost 1.0 Laufschuh</td>\n",
       "      <td>U</td>\n",
       "      <td>Grey One</td>\n",
       "    </tr>\n",
       "    <tr>\n",
       "      <th>...</th>\n",
       "      <td>...</td>\n",
       "      <td>...</td>\n",
       "      <td>...</td>\n",
       "      <td>...</td>\n",
       "    </tr>\n",
       "    <tr>\n",
       "      <th>3297</th>\n",
       "      <td>IF4212</td>\n",
       "      <td>Chris Nikic Adizero Boston 12 Wide Shoes</td>\n",
       "      <td>U</td>\n",
       "      <td>Screaming Orange</td>\n",
       "    </tr>\n",
       "    <tr>\n",
       "      <th>3298</th>\n",
       "      <td>IE6438</td>\n",
       "      <td>Run 60s Shoes Kids</td>\n",
       "      <td>K</td>\n",
       "      <td>Cloud White</td>\n",
       "    </tr>\n",
       "    <tr>\n",
       "      <th>3299</th>\n",
       "      <td>H02334</td>\n",
       "      <td>NMD_R1 Refined Shoes</td>\n",
       "      <td>K</td>\n",
       "      <td>Cloud White</td>\n",
       "    </tr>\n",
       "    <tr>\n",
       "      <th>3300</th>\n",
       "      <td>IF1360</td>\n",
       "      <td>F50 Pro Firm Ground Cleats Kids</td>\n",
       "      <td>K</td>\n",
       "      <td>Turbo</td>\n",
       "    </tr>\n",
       "    <tr>\n",
       "      <th>3301</th>\n",
       "      <td>IH3814</td>\n",
       "      <td>F50 Women's League Mid-Cut Turf Soccer Shoes</td>\n",
       "      <td>W</td>\n",
       "      <td>Turbo</td>\n",
       "    </tr>\n",
       "  </tbody>\n",
       "</table>\n",
       "<p>3302 rows × 4 columns</p>\n",
       "</div>"
      ],
      "text/plain": [
       "          id                                          name gender  \\\n",
       "0     HP9426                            Breaknet 2.0 Schuh      U   \n",
       "1     HQ4199                      Ultraboost 1.0 Laufschuh      U   \n",
       "2     JQ2552                   Adizero Boston 12 Laufschuh      U   \n",
       "3     JI1896                                   NY 90 Schuh      U   \n",
       "4     IE8976                      Ultraboost 1.0 Laufschuh      U   \n",
       "...      ...                                           ...    ...   \n",
       "3297  IF4212      Chris Nikic Adizero Boston 12 Wide Shoes      U   \n",
       "3298  IE6438                            Run 60s Shoes Kids      K   \n",
       "3299  H02334                          NMD_R1 Refined Shoes      K   \n",
       "3300  IF1360               F50 Pro Firm Ground Cleats Kids      K   \n",
       "3301  IH3814  F50 Women's League Mid-Cut Turf Soccer Shoes      W   \n",
       "\n",
       "        dominant_color  \n",
       "0          Cloud White  \n",
       "1           Core Black  \n",
       "2          Cloud White  \n",
       "3          Cloud White  \n",
       "4             Grey One  \n",
       "...                ...  \n",
       "3297  Screaming Orange  \n",
       "3298       Cloud White  \n",
       "3299       Cloud White  \n",
       "3300             Turbo  \n",
       "3301             Turbo  \n",
       "\n",
       "[3302 rows x 4 columns]"
      ]
     },
     "execution_count": 22,
     "metadata": {},
     "output_type": "execute_result"
    }
   ],
   "source": [
    "shoes_info = pd.read_csv('shoes_dim.csv')\n",
    "shoes_info.drop(columns=['best_for_wear', 'image_url', 'sub_color1', 'sub_color2'], inplace=True)\n",
    "shoes_info.id.duplicated().any()\n",
    "shoes_info"
   ]
  },
  {
   "cell_type": "markdown",
   "id": "ee804d12-a140-436c-b022-9b79bde27025",
   "metadata": {},
   "source": [
    "The 'shoes_dim.csv' dataset is grouped by two key variables: id (shoe identifier) and gender. This grouping organizes the data into distinct groups, where each group corresponds to a unique combination of shoe ID and gender."
   ]
  },
  {
   "cell_type": "code",
   "execution_count": 25,
   "id": "cc38d27a-2ec6-400e-b52c-b429d75445c2",
   "metadata": {},
   "outputs": [
    {
     "data": {
      "text/html": [
       "<div>\n",
       "<style scoped>\n",
       "    .dataframe tbody tr th:only-of-type {\n",
       "        vertical-align: middle;\n",
       "    }\n",
       "\n",
       "    .dataframe tbody tr th {\n",
       "        vertical-align: top;\n",
       "    }\n",
       "\n",
       "    .dataframe thead th {\n",
       "        text-align: right;\n",
       "    }\n",
       "</style>\n",
       "<table border=\"1\" class=\"dataframe\">\n",
       "  <thead>\n",
       "    <tr style=\"text-align: right;\">\n",
       "      <th></th>\n",
       "      <th>id</th>\n",
       "      <th>gender</th>\n",
       "      <th>name</th>\n",
       "      <th>dominant_color</th>\n",
       "    </tr>\n",
       "  </thead>\n",
       "  <tbody>\n",
       "    <tr>\n",
       "      <th>0</th>\n",
       "      <td>011040</td>\n",
       "      <td>U</td>\n",
       "      <td>World Cup Boots</td>\n",
       "      <td>Black</td>\n",
       "    </tr>\n",
       "    <tr>\n",
       "      <th>1</th>\n",
       "      <td>015110</td>\n",
       "      <td>U</td>\n",
       "      <td>Copa Mundial Boots</td>\n",
       "      <td>Black</td>\n",
       "    </tr>\n",
       "    <tr>\n",
       "      <th>2</th>\n",
       "      <td>019228</td>\n",
       "      <td>U</td>\n",
       "      <td>Mundial Team Boots</td>\n",
       "      <td>Black</td>\n",
       "    </tr>\n",
       "    <tr>\n",
       "      <th>3</th>\n",
       "      <td>019310</td>\n",
       "      <td>U</td>\n",
       "      <td>Mundial Goal Shoes</td>\n",
       "      <td>Core Black</td>\n",
       "    </tr>\n",
       "    <tr>\n",
       "      <th>4</th>\n",
       "      <td>033200</td>\n",
       "      <td>U</td>\n",
       "      <td>Kaiser 5 Cup Boots</td>\n",
       "      <td>Black</td>\n",
       "    </tr>\n",
       "    <tr>\n",
       "      <th>...</th>\n",
       "      <td>...</td>\n",
       "      <td>...</td>\n",
       "      <td>...</td>\n",
       "      <td>...</td>\n",
       "    </tr>\n",
       "    <tr>\n",
       "      <th>2108</th>\n",
       "      <td>JS3050</td>\n",
       "      <td>M</td>\n",
       "      <td>Adizero Impact Turf Silver Speed Baseball Shoes</td>\n",
       "      <td>Silver Metallic</td>\n",
       "    </tr>\n",
       "    <tr>\n",
       "      <th>2109</th>\n",
       "      <td>JS3083</td>\n",
       "      <td>K</td>\n",
       "      <td>Texas Tech x Mahomes Ultrarun 5 Shoes Kids</td>\n",
       "      <td>Team Power Red 2</td>\n",
       "    </tr>\n",
       "    <tr>\n",
       "      <th>2110</th>\n",
       "      <td>JS3222</td>\n",
       "      <td>M</td>\n",
       "      <td>Equipment Edge Runner 1 Shoes</td>\n",
       "      <td>Crystal White</td>\n",
       "    </tr>\n",
       "    <tr>\n",
       "      <th>2111</th>\n",
       "      <td>Q47235</td>\n",
       "      <td>M</td>\n",
       "      <td>Tracefinder Trailrunning-Shoes</td>\n",
       "      <td>Core Black</td>\n",
       "    </tr>\n",
       "    <tr>\n",
       "      <th>2112</th>\n",
       "      <td>S29146</td>\n",
       "      <td>U</td>\n",
       "      <td>Five Ten Trailcross GORE-TEX® Mountain Bike Shoes</td>\n",
       "      <td>Core Black</td>\n",
       "    </tr>\n",
       "  </tbody>\n",
       "</table>\n",
       "<p>2113 rows × 4 columns</p>\n",
       "</div>"
      ],
      "text/plain": [
       "          id gender                                               name  \\\n",
       "0     011040      U                                    World Cup Boots   \n",
       "1     015110      U                                 Copa Mundial Boots   \n",
       "2     019228      U                                 Mundial Team Boots   \n",
       "3     019310      U                                 Mundial Goal Shoes   \n",
       "4     033200      U                                 Kaiser 5 Cup Boots   \n",
       "...      ...    ...                                                ...   \n",
       "2108  JS3050      M    Adizero Impact Turf Silver Speed Baseball Shoes   \n",
       "2109  JS3083      K         Texas Tech x Mahomes Ultrarun 5 Shoes Kids   \n",
       "2110  JS3222      M                      Equipment Edge Runner 1 Shoes   \n",
       "2111  Q47235      M                     Tracefinder Trailrunning-Shoes   \n",
       "2112  S29146      U  Five Ten Trailcross GORE-TEX® Mountain Bike Shoes   \n",
       "\n",
       "        dominant_color  \n",
       "0                Black  \n",
       "1                Black  \n",
       "2                Black  \n",
       "3           Core Black  \n",
       "4                Black  \n",
       "...                ...  \n",
       "2108   Silver Metallic  \n",
       "2109  Team Power Red 2  \n",
       "2110     Crystal White  \n",
       "2111        Core Black  \n",
       "2112        Core Black  \n",
       "\n",
       "[2113 rows x 4 columns]"
      ]
     },
     "execution_count": 25,
     "metadata": {},
     "output_type": "execute_result"
    }
   ],
   "source": [
    "shoes_info = shoes_info.groupby(['id', 'gender']).agg(\n",
    "    {\n",
    "        'name': 'last',   \n",
    "        'dominant_color': 'first'\n",
    "    }\n",
    ").reset_index()\n",
    "\n",
    "shoes_info['name'] = shoes_info['name'].str.replace('Schuh', 'Shoes')\n",
    "shoes_info['name'] = shoes_info['name'].str.replace('Laufschuh', 'Shoes')\n",
    "\n",
    "shoes_info"
   ]
  },
  {
   "cell_type": "markdown",
   "id": "6a8f72bf-0196-4eaa-8a9b-7a8bac83cb6b",
   "metadata": {},
   "source": [
    "## Second Merge"
   ]
  },
  {
   "cell_type": "markdown",
   "id": "e60f2e51-d4ee-434a-900b-a6c5db5a5f0a",
   "metadata": {},
   "source": [
    "Once the preparation and cleaning of the source datasets are completed, we can perform the final merge to obtain the dataset for our analysis.\n",
    "Right now I should be working with a dataset that does not contain duplicates (except for those distinguished by gender and country of origin)."
   ]
  },
  {
   "cell_type": "code",
   "execution_count": 29,
   "id": "be5fd0ba-07ec-43ad-851e-3fb806abf93d",
   "metadata": {},
   "outputs": [
    {
     "data": {
      "text/html": [
       "<div>\n",
       "<style scoped>\n",
       "    .dataframe tbody tr th:only-of-type {\n",
       "        vertical-align: middle;\n",
       "    }\n",
       "\n",
       "    .dataframe tbody tr th {\n",
       "        vertical-align: top;\n",
       "    }\n",
       "\n",
       "    .dataframe thead th {\n",
       "        text-align: right;\n",
       "    }\n",
       "</style>\n",
       "<table border=\"1\" class=\"dataframe\">\n",
       "  <thead>\n",
       "    <tr style=\"text-align: right;\">\n",
       "      <th></th>\n",
       "      <th>id</th>\n",
       "      <th>category</th>\n",
       "      <th>country</th>\n",
       "      <th>price_EUR</th>\n",
       "      <th>gender</th>\n",
       "      <th>name</th>\n",
       "      <th>dominant_color</th>\n",
       "    </tr>\n",
       "  </thead>\n",
       "  <tbody>\n",
       "    <tr>\n",
       "      <th>0</th>\n",
       "      <td>HP9426</td>\n",
       "      <td>sneakers</td>\n",
       "      <td>DE</td>\n",
       "      <td>60.00</td>\n",
       "      <td>U</td>\n",
       "      <td>Breaknet 2.0 Shoes</td>\n",
       "      <td>Cloud White</td>\n",
       "    </tr>\n",
       "    <tr>\n",
       "      <th>1</th>\n",
       "      <td>HQ4199</td>\n",
       "      <td>sneakers</td>\n",
       "      <td>DE</td>\n",
       "      <td>180.00</td>\n",
       "      <td>M</td>\n",
       "      <td>Ultraboost 1.0 Shoes</td>\n",
       "      <td>Core Black</td>\n",
       "    </tr>\n",
       "    <tr>\n",
       "      <th>2</th>\n",
       "      <td>HQ4199</td>\n",
       "      <td>sneakers</td>\n",
       "      <td>DE</td>\n",
       "      <td>180.00</td>\n",
       "      <td>U</td>\n",
       "      <td>ULTRABOOST 1.0 SHOES</td>\n",
       "      <td>Core Black</td>\n",
       "    </tr>\n",
       "    <tr>\n",
       "      <th>3</th>\n",
       "      <td>JQ2552</td>\n",
       "      <td>sneakers</td>\n",
       "      <td>DE</td>\n",
       "      <td>160.00</td>\n",
       "      <td>U</td>\n",
       "      <td>Adizero Boston 12 Shoes</td>\n",
       "      <td>Cloud White</td>\n",
       "    </tr>\n",
       "    <tr>\n",
       "      <th>4</th>\n",
       "      <td>JI1896</td>\n",
       "      <td>sneakers</td>\n",
       "      <td>DE</td>\n",
       "      <td>80.00</td>\n",
       "      <td>U</td>\n",
       "      <td>NY 90 Shoes</td>\n",
       "      <td>Cloud White</td>\n",
       "    </tr>\n",
       "    <tr>\n",
       "      <th>...</th>\n",
       "      <td>...</td>\n",
       "      <td>...</td>\n",
       "      <td>...</td>\n",
       "      <td>...</td>\n",
       "      <td>...</td>\n",
       "      <td>...</td>\n",
       "      <td>...</td>\n",
       "    </tr>\n",
       "    <tr>\n",
       "      <th>3675</th>\n",
       "      <td>IF4212</td>\n",
       "      <td>athletic_sneakers</td>\n",
       "      <td>US</td>\n",
       "      <td>148.32</td>\n",
       "      <td>U</td>\n",
       "      <td>Chris Nikic Adizero Boston 12 Wide Shoes</td>\n",
       "      <td>Screaming Orange</td>\n",
       "    </tr>\n",
       "    <tr>\n",
       "      <th>3676</th>\n",
       "      <td>IE6438</td>\n",
       "      <td>athletic_sneakers</td>\n",
       "      <td>US</td>\n",
       "      <td>51.50</td>\n",
       "      <td>K</td>\n",
       "      <td>Run 60s Shoes Kids</td>\n",
       "      <td>Cloud White</td>\n",
       "    </tr>\n",
       "    <tr>\n",
       "      <th>3677</th>\n",
       "      <td>H02334</td>\n",
       "      <td>athletic_sneakers</td>\n",
       "      <td>US</td>\n",
       "      <td>113.30</td>\n",
       "      <td>K</td>\n",
       "      <td>NMD_R1 Refined Shoes</td>\n",
       "      <td>Cloud White</td>\n",
       "    </tr>\n",
       "    <tr>\n",
       "      <th>3678</th>\n",
       "      <td>IF1360</td>\n",
       "      <td>occer-shoes</td>\n",
       "      <td>US</td>\n",
       "      <td>72.10</td>\n",
       "      <td>K</td>\n",
       "      <td>F50 Pro Firm Ground Cleats Kids</td>\n",
       "      <td>Turbo</td>\n",
       "    </tr>\n",
       "    <tr>\n",
       "      <th>3679</th>\n",
       "      <td>IH3814</td>\n",
       "      <td>occer-shoes</td>\n",
       "      <td>US</td>\n",
       "      <td>55.62</td>\n",
       "      <td>W</td>\n",
       "      <td>F50 Women's League Mid-Cut Turf Soccer Shoes</td>\n",
       "      <td>Turbo</td>\n",
       "    </tr>\n",
       "  </tbody>\n",
       "</table>\n",
       "<p>3680 rows × 7 columns</p>\n",
       "</div>"
      ],
      "text/plain": [
       "          id           category country  price_EUR gender  \\\n",
       "0     HP9426           sneakers      DE      60.00      U   \n",
       "1     HQ4199           sneakers      DE     180.00      M   \n",
       "2     HQ4199           sneakers      DE     180.00      U   \n",
       "3     JQ2552           sneakers      DE     160.00      U   \n",
       "4     JI1896           sneakers      DE      80.00      U   \n",
       "...      ...                ...     ...        ...    ...   \n",
       "3675  IF4212  athletic_sneakers      US     148.32      U   \n",
       "3676  IE6438  athletic_sneakers      US      51.50      K   \n",
       "3677  H02334  athletic_sneakers      US     113.30      K   \n",
       "3678  IF1360        occer-shoes      US      72.10      K   \n",
       "3679  IH3814        occer-shoes      US      55.62      W   \n",
       "\n",
       "                                              name    dominant_color  \n",
       "0                               Breaknet 2.0 Shoes       Cloud White  \n",
       "1                             Ultraboost 1.0 Shoes        Core Black  \n",
       "2                             ULTRABOOST 1.0 SHOES        Core Black  \n",
       "3                          Adizero Boston 12 Shoes       Cloud White  \n",
       "4                                      NY 90 Shoes       Cloud White  \n",
       "...                                            ...               ...  \n",
       "3675      Chris Nikic Adizero Boston 12 Wide Shoes  Screaming Orange  \n",
       "3676                            Run 60s Shoes Kids       Cloud White  \n",
       "3677                          NMD_R1 Refined Shoes       Cloud White  \n",
       "3678               F50 Pro Firm Ground Cleats Kids             Turbo  \n",
       "3679  F50 Women's League Mid-Cut Turf Soccer Shoes             Turbo  \n",
       "\n",
       "[3680 rows x 7 columns]"
      ]
     },
     "execution_count": 29,
     "metadata": {},
     "output_type": "execute_result"
    }
   ],
   "source": [
    "shoes_df = pd.merge(countries_metrics_shoes, shoes_info, on='id', how=\"inner\")\n",
    "shoes_df"
   ]
  },
  {
   "cell_type": "code",
   "execution_count": 31,
   "id": "18080368-c3ac-4b5e-af2b-a97581b9845c",
   "metadata": {},
   "outputs": [
    {
     "data": {
      "text/html": [
       "<div>\n",
       "<style scoped>\n",
       "    .dataframe tbody tr th:only-of-type {\n",
       "        vertical-align: middle;\n",
       "    }\n",
       "\n",
       "    .dataframe tbody tr th {\n",
       "        vertical-align: top;\n",
       "    }\n",
       "\n",
       "    .dataframe thead th {\n",
       "        text-align: right;\n",
       "    }\n",
       "</style>\n",
       "<table border=\"1\" class=\"dataframe\">\n",
       "  <thead>\n",
       "    <tr style=\"text-align: right;\">\n",
       "      <th></th>\n",
       "      <th>id</th>\n",
       "      <th>category</th>\n",
       "      <th>country</th>\n",
       "      <th>price_EUR</th>\n",
       "      <th>gender</th>\n",
       "      <th>name</th>\n",
       "      <th>dominant_color</th>\n",
       "    </tr>\n",
       "  </thead>\n",
       "  <tbody>\n",
       "  </tbody>\n",
       "</table>\n",
       "</div>"
      ],
      "text/plain": [
       "Empty DataFrame\n",
       "Columns: [id, category, country, price_EUR, gender, name, dominant_color]\n",
       "Index: []"
      ]
     },
     "execution_count": 31,
     "metadata": {},
     "output_type": "execute_result"
    }
   ],
   "source": [
    "shoes_df.isnull().sum()\n",
    "shoes_df.duplicated().any()\n",
    "shoes_df[shoes_df.duplicated()]"
   ]
  },
  {
   "cell_type": "code",
   "execution_count": 33,
   "id": "a057f1e2-6962-4426-8980-52aa7edd73f7",
   "metadata": {},
   "outputs": [
    {
     "data": {
      "text/plain": [
       "category\n",
       "sneakers                1083\n",
       "running-shoes            786\n",
       "us/athletic_sneakers     642\n",
       "outdoor-shoes            613\n",
       "tennis-shoes             154\n",
       "us/soccer-shoes          102\n",
       "gym_training-shoes        96\n",
       "us/workout-shoes          58\n",
       "football-shoes            52\n",
       "us/walking-shoes          27\n",
       "us/running-shoes          26\n",
       "us/tennis-shoes           22\n",
       "athletic_sneakers          8\n",
       "us/hiking-shoes            6\n",
       "walking-shoes              3\n",
       "occer-shoes                2\n",
       "Name: count, dtype: int64"
      ]
     },
     "execution_count": 33,
     "metadata": {},
     "output_type": "execute_result"
    }
   ],
   "source": [
    "shoes_df.category.value_counts()"
   ]
  },
  {
   "cell_type": "markdown",
   "id": "2889c07c-4c60-4842-8c2e-abc6ee857eac",
   "metadata": {},
   "source": [
    "**The variable names are stored in a disorganized manner. I will update the 'category' column to accurately reflect the shoe types.**"
   ]
  },
  {
   "cell_type": "code",
   "execution_count": 36,
   "id": "44bfdfca-6a2e-4e91-b574-f0813e93beba",
   "metadata": {},
   "outputs": [
    {
     "data": {
      "text/plain": [
       "array(['sneakers', 'football-shoes', 'outdoor-shoes', 'running-shoes',\n",
       "       'walking-shoes', 'gym_training-shoes', 'tennis-shoes',\n",
       "       'us/athletic_sneakers', 'us/soccer-shoes', 'us/hiking-shoes',\n",
       "       'us/running-shoes', 'us/walking-shoes', 'us/workout-shoes',\n",
       "       'us/tennis-shoes', 'athletic_sneakers', 'occer-shoes'],\n",
       "      dtype=object)"
      ]
     },
     "execution_count": 36,
     "metadata": {},
     "output_type": "execute_result"
    }
   ],
   "source": [
    "shoes_df.category.unique()"
   ]
  },
  {
   "cell_type": "code",
   "execution_count": 38,
   "id": "cb5747c6-f102-40b3-8bdb-a8875cabcb5d",
   "metadata": {},
   "outputs": [
    {
     "data": {
      "text/plain": [
       "category\n",
       "sneakers              1083\n",
       "running-shoes          812\n",
       "athletic_sneakers      650\n",
       "outdoor-shoes          613\n",
       "tennis-shoes           176\n",
       "football-shoes         156\n",
       "gym_training-shoes     154\n",
       "walking-shoes           30\n",
       "hiking-shoes             6\n",
       "Name: count, dtype: int64"
      ]
     },
     "execution_count": 38,
     "metadata": {},
     "output_type": "execute_result"
    }
   ],
   "source": [
    "shoes_df['category'] = shoes_df['category'].replace({\n",
    "    'occer-shoes' : 'football-shoes',\n",
    "    'us/tennis-shoes' : 'tennis-shoes',\n",
    "    'us/running-shoes' : 'running-shoes',\n",
    "    'us/hiking-shoes' : 'hiking-shoes',\n",
    "    'us/walking-shoes' : 'walking-shoes',\n",
    "    'us/workout-shoes' : 'gym_training-shoes',\n",
    "    'us/soccer-shoes' : 'football-shoes',\n",
    "    'us/athletic_sneakers' : 'athletic_sneakers'\n",
    "})\n",
    "\n",
    "shoes_df.category.value_counts()"
   ]
  },
  {
   "cell_type": "markdown",
   "id": "e70dfdc0-8fea-4bba-9e94-64744f7c515d",
   "metadata": {},
   "source": [
    "### Distribution of the Target Variable 'Price'"
   ]
  },
  {
   "cell_type": "code",
   "execution_count": 40,
   "id": "4a0c236a-2e40-4106-a0be-c6b4b240ea6f",
   "metadata": {},
   "outputs": [
    {
     "data": {
      "image/png": "[encoded data removed]",
      "text/plain": [
       "<Figure size 600x400 with 1 Axes>"
      ]
     },
     "metadata": {},
     "output_type": "display_data"
    }
   ],
   "source": [
    "import matplotlib.pyplot as plt\n",
    "\n",
    "plt.figure(figsize=(6, 4))\n",
    "plt.hist(shoes_df['price_EUR'], bins = 30, edgecolor = 'black')\n",
    "plt.xlabel('Price (EUR)')\n",
    "plt.ylabel('Frequency')\n",
    "plt.title('Distribution of Shoe Prices')\n",
    "plt.grid(axis = 'y', alpha = 0.75)\n",
    "plt.show()"
   ]
  },
  {
   "cell_type": "code",
   "execution_count": 42,
   "id": "8eaaafa6-7a7d-492e-98d1-deb5c4a90821",
   "metadata": {},
   "outputs": [
    {
     "name": "stdout",
     "output_type": "stream",
     "text": [
      "Test statistic: 741.6937353489038\n",
      "P-value: 8.775093201801951e-162\n",
      "The data does not follow a normal distribution (reject H0).\n"
     ]
    }
   ],
   "source": [
    "from scipy.stats.mstats import normaltest\n",
    "statistic, pvalue = normaltest(shoes_df.price_EUR)\n",
    "print(f\"Test statistic: {statistic}\")\n",
    "print(f\"P-value: {pvalue}\")\n",
    "if pvalue < 0.05:\n",
    "    print(\"The data does not follow a normal distribution (reject H0).\")\n",
    "else:\n",
    "    print(\"The data follows a normal distribution (cannot reject H0).\")\n"
   ]
  },
  {
   "cell_type": "markdown",
   "id": "2f43a8bf-d702-427a-87d9-c0f9712232af",
   "metadata": {},
   "source": [
    "The variable 'price', as already observed in the graph and later confirmed by the normality test, does not follow a normal distribution and is skewed to the right. Moving forward within the scope of Exploratory Data Analysis (EDA), we aim to visualize how price varies based on different features: specifically, by country and shoe category.\n",
    "It is worth noting that the 'category' variable in the UK only includes the 'sneakers' instance."
   ]
  },
  {
   "cell_type": "code",
   "execution_count": 45,
   "id": "74038dba-1f3c-4996-afdd-73c45e0caa6b",
   "metadata": {},
   "outputs": [
    {
     "data": {
      "image/png": "[encoded data removed]",
      "text/plain": [
       "<Figure size 800x600 with 2 Axes>"
      ]
     },
     "metadata": {},
     "output_type": "display_data"
    }
   ],
   "source": [
    "import seaborn as sns\n",
    "\n",
    "category_country_prices = shoes_df.groupby(['category', 'country'])['price_EUR'].mean().unstack()\n",
    "\n",
    "plt.figure(figsize=(8, 6))\n",
    "sns.heatmap(\n",
    "    category_country_prices,\n",
    "    annot=True,\n",
    "    fmt=\".2f\",\n",
    "    cmap=\"coolwarm\",\n",
    "    cbar=True,\n",
    "    linewidths=0.5,\n",
    "    linecolor='gray',\n",
    "    cbar_kws={'label': 'Average Price (EUR)'}\n",
    ")\n",
    "plt.title('Average Price per Category and Country', fontsize=16, weight='bold', pad=20) \n",
    "plt.xlabel('Country', fontsize=10, labelpad=10) \n",
    "plt.ylabel('Category', fontsize=10, labelpad=10) \n",
    "plt.xticks(rotation=45, ha='right', fontsize=9) \n",
    "plt.yticks(fontsize=9)  \n",
    "plt.tight_layout() \n",
    "plt.show()"
   ]
  },
  {
   "cell_type": "markdown",
   "id": "004a0c98-576a-49e5-87c7-927610623f81",
   "metadata": {},
   "source": [
    "It is interesting to note that prices tend to be higher in the United States compared to European countries, particularly for football shoes (possibly due to the lower popularity of this sport overseas), and tennis shoes.\n",
    "\n",
    "From a gender perspective, no significant differences in shoe prices are observed."
   ]
  },
  {
   "cell_type": "code",
   "execution_count": 49,
   "id": "df008d07-1152-45f4-9292-f42891ef2dc8",
   "metadata": {},
   "outputs": [
    {
     "data": {
      "text/plain": [
       "'\\ncategory_country_gender = shoes_df.groupby([\\'category\\', \\'gender\\'])[\\'price_EUR\\'].mean().unstack()\\n\\nplt.figure(figsize=(8, 6))\\nsns.heatmap(\\n    category_country_gender,\\n    annot=True,\\n    fmt=\".2f\",\\n    cmap=\"coolwarm\",\\n    cbar=True\\n)\\nplt.title(\\'Prezzo medio per categoria e genere\\', fontsize=14)\\nplt.xlabel(\\'Gender\\', fontsize=12)\\nplt.ylabel(\\'Categoria\\', fontsize=12)\\nplt.xticks(rotation=45)\\nplt.tight_layout()\\nplt.show()\\n'"
      ]
     },
     "execution_count": 49,
     "metadata": {},
     "output_type": "execute_result"
    }
   ],
   "source": [
    "'''\n",
    "category_country_gender = shoes_df.groupby(['category', 'gender'])['price_EUR'].mean().unstack()\n",
    "\n",
    "plt.figure(figsize=(8, 6))\n",
    "sns.heatmap(\n",
    "    category_country_gender,\n",
    "    annot=True,\n",
    "    fmt=\".2f\",\n",
    "    cmap=\"coolwarm\",\n",
    "    cbar=True\n",
    ")\n",
    "plt.title('Prezzo medio per categoria e genere', fontsize=14)\n",
    "plt.xlabel('Gender', fontsize=12)\n",
    "plt.ylabel('Categoria', fontsize=12)\n",
    "plt.xticks(rotation=45)\n",
    "plt.tight_layout()\n",
    "plt.show()\n",
    "'''"
   ]
  },
  {
   "cell_type": "markdown",
   "id": "722b4298-4084-4f24-83d9-749d2e1c4d48",
   "metadata": {},
   "source": [
    "**Returning to the previous graph, it would be interesting to examine the price differences of shoes across the various countries present in our dataset.**"
   ]
  },
  {
   "cell_type": "code",
   "execution_count": 56,
   "id": "5b65ad72-7d95-428b-acd8-0d4637b7541b",
   "metadata": {},
   "outputs": [
    {
     "data": {
      "text/plain": [
       "(array([-100.,    0.,  100.,  200.,  300.,  400.,  500.,  600.]),\n",
       " [Text(0, -100.0, '−100'),\n",
       "  Text(0, 0.0, '0'),\n",
       "  Text(0, 100.0, '100'),\n",
       "  Text(0, 200.0, '200'),\n",
       "  Text(0, 300.0, '300'),\n",
       "  Text(0, 400.0, '400'),\n",
       "  Text(0, 500.0, '500'),\n",
       "  Text(0, 600.0, '600')])"
      ]
     },
     "execution_count": 56,
     "metadata": {},
     "output_type": "execute_result"
    },
    {
     "data": {
      "image/png": "[encoded data removed]",
      "text/plain": [
       "<Figure size 800x500 with 1 Axes>"
      ]
     },
     "metadata": {},
     "output_type": "display_data"
    }
   ],
   "source": [
    "plt.figure(figsize=(8, 5))\n",
    "sns.boxplot(\n",
    "    x='country', \n",
    "    y='price_EUR', \n",
    "    data=shoes_df, \n",
    "    palette=\"pastel\",\n",
    "    hue='country',\n",
    "    linewidth=1.5,\n",
    "    legend=False\n",
    ")\n",
    "\n",
    "plt.title('Price Distribution of Shoes by Country', fontsize=14, weight='bold', pad=20)\n",
    "plt.xlabel('Country', fontsize=10, labelpad=10)\n",
    "plt.ylabel('Price (EUR)', fontsize=10, labelpad=10)\n",
    "plt.xticks(rotation=45, ha='right', fontsize=10)\n",
    "plt.yticks(fontsize=10)"
   ]
  },
  {
   "cell_type": "markdown",
   "id": "0e806182-c474-46d6-8815-6722fc5d1c01",
   "metadata": {},
   "source": [
    "At first glance, it appears that shoe prices in the United States tend to be higher compared to other overseas countries. Notably, the United Kingdom includes only one category of shoes, namely 'sneaker shoes.' Meanwhile, Belgium and Germany exhibit a similar pricing pattern, with outliers distributed relatively homogeneously within their respective trends.\n",
    "\n",
    "In order to test these hypothesis we can conduct the ANOVA Analysis."
   ]
  },
  {
   "cell_type": "markdown",
   "id": "2ae761e9-7af6-484d-973b-856d68ba1dcb",
   "metadata": {},
   "source": [
    "### ANOVA Analysis"
   ]
  },
  {
   "cell_type": "markdown",
   "id": "a7d2e954-ae7d-4195-91b7-cb2bb80bab63",
   "metadata": {},
   "source": [
    "The ANOVA (Analysis of Variance) test compares the variability within each group (country) to the variability between the groups. ANOVA will be used to determine whether there are statistically significant differences in the mean shoe prices among the four countries. It If the p-value is below a chosen significance level (0.05), it indicates that at least one country has a mean price that significantly differs from the others. However, it does not specify which countries differ; to see that additional post-hoc will provide for that."
   ]
  },
  {
   "cell_type": "code",
   "execution_count": 61,
   "id": "df64db86-53df-43d5-9a59-b5402484a600",
   "metadata": {},
   "outputs": [
    {
     "name": "stdout",
     "output_type": "stream",
     "text": [
      "F-statistic: 61.77\n",
      "P-value: 0.0000\n",
      " Multiple Comparison of Means - Tukey HSD, FWER=0.05  \n",
      "======================================================\n",
      "group1 group2 meandiff p-adj   lower    upper   reject\n",
      "------------------------------------------------------\n",
      "    BE     DE  -3.2249 0.4827   -9.035   2.5852  False\n",
      "    BE     UK -41.1833    0.0 -53.5232 -28.8434   True\n",
      "    BE     US  19.2841    0.0  12.7267  25.8415   True\n",
      "    DE     UK -37.9583    0.0  -50.173 -25.7437   True\n",
      "    DE     US  22.5091    0.0  16.1906  28.8276   True\n",
      "    UK     US  60.4674    0.0  47.8801  73.0547   True\n",
      "------------------------------------------------------\n"
     ]
    },
    {
     "data": {
      "image/png": "[encoded data removed]",
      "text/plain": [
       "<Figure size 1000x600 with 1 Axes>"
      ]
     },
     "metadata": {},
     "output_type": "display_data"
    }
   ],
   "source": [
    "from scipy.stats import f_oneway\n",
    "from statsmodels.stats.multicomp import pairwise_tukeyhsd\n",
    "\n",
    "# ANOVA\n",
    "groups = [group['price_EUR'].values for _, group in shoes_df.groupby('country')]\n",
    "anova_result = f_oneway(*groups)\n",
    "print(f\"F-statistic: {anova_result.statistic:.2f}\")\n",
    "print(f\"P-value: {anova_result.pvalue:.4f}\")\n",
    "\n",
    "# Test Tukey HSD\n",
    "tukey = pairwise_tukeyhsd(endog=shoes_df['price_EUR'], groups=shoes_df['country'], alpha=0.05)\n",
    "print(tukey)\n",
    "tukey.plot_simultaneous()\n",
    "plt.title(\"Test Tukey HSD - Multiple Comparison\")\n",
    "plt.show()"
   ]
  },
  {
   "cell_type": "markdown",
   "id": "49bc7c51-95aa-48c3-a566-e0f19ceb7e53",
   "metadata": {},
   "source": [
    "It is important to remember that the UK only had the 'sneakers' category, resulting in lower values compared to the other countries. However, it is particularly interesting to note that, based on the ANOVA test and, subsequently, the Tukey HSD test, no significant differences were found between Belgium and Germany, both of which exhibit similar prices across the reported categories. This is not the case for the United States, which, as shown in the graph and indicated by the p-value from the test, has a higher average shoe price compared to the other countries. As previously observed in the heatmap, this difference is especially pronounced in specific shoe categories."
   ]
  }
 ],
 "metadata": {
  "kernelspec": {
   "display_name": "Python [conda env:base] *",
   "language": "python",
   "name": "conda-base-py"
  },
  "language_info": {
   "codemirror_mode": {
    "name": "ipython",
    "version": 3
   },
   "file_extension": ".py",
   "mimetype": "text/x-python",
   "name": "python",
   "nbconvert_exporter": "python",
   "pygments_lexer": "ipython3",
   "version": "3.12.7"
  }
 },
 "nbformat": 4,
 "nbformat_minor": 5
}
